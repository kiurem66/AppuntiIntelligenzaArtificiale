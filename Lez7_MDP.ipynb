{
 "cells": [
  {
   "cell_type": "markdown",
   "metadata": {},
   "source": [
    "# Risoluzione MDP\n",
    "\n",
    "La **Dynamic Programming** è il metodo migliore di soluzione di MDP, si basa sullo scomporre un preblema in tanti sottoproblemi in maniera iterativa.\n",
    "\n",
    "\n",
    "\n",
    "### Value Iteration\n",
    "Trovare la $V*$ ossia la funzione che soddisfa l'equazione de Bellman, inizializzo $V_0(s) = 0$ per ogni stato ed ogni iterazione calcolo $V_{k+1}(s)$ usando i valori $V_k(s)$ ottenuti dall'iterazione precedente.\n",
    "\n",
    "Bellman Update: $$ V_{k+1}(S) \\leftarrow max_{a} \\sum_{S'} P(S' | s,a)[R(s,a,s') + yV_k(S')]$$\n",
    "\n",
    "### Policy Iteration\n",
    "Lavora direttamente sulla policy migliorandola iterativamente."
   ]
  }
 ],
 "metadata": {
  "kernelspec": {
   "display_name": "Python 3",
   "language": "python",
   "name": "python3"
  },
  "language_info": {
   "name": "python",
   "version": "3.10.8 (main, Nov  1 2022, 14:18:21) [GCC 12.2.0]"
  },
  "orig_nbformat": 4,
  "vscode": {
   "interpreter": {
    "hash": "e7370f93d1d0cde622a1f8e1c04877d8463912d04d973331ad4851f04de6915a"
   }
  }
 },
 "nbformat": 4,
 "nbformat_minor": 2
}
