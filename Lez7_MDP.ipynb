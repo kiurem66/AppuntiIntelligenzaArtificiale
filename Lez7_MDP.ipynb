{
 "cells": [
  {
   "cell_type": "markdown",
   "metadata": {},
   "source": [
    "# Risoluzione MDP\n",
    "\n",
    "La **Dynamic Programming** è il metodo migliore di soluzione di MDP, si basa sullo scomporre un preblema in tanti sottoproblemi in maniera iterativa.\n",
    "\n",
    "\n",
    "\n",
    "### Value Iteration\n",
    "Trovare la $V*$ ossia la funzione che soddisfa l'equazione de Bellman, inizializzo $V_0(s) = 0$ per ogni stato ed ogni iterazione calcolo $V_{k+1}(s)$ usando i valori $V_k(s)$ ottenuti dall'iterazione precedente.\n",
    "\n",
    "Bellman Update: $$ V_{k+1}(S) \\leftarrow max_{a} \\sum_{S'} P(S' | s,a)[R(s,a,s') + yV_k(S')]$$\n",
    "\n",
    "### Policy Iteration\n",
    "Lavora direttamente sulla policy migliorandola iterativamente"
   ]
  }
 ],
 "metadata": {
  "language_info": {
   "name": "python"
  },
  "orig_nbformat": 4
 },
 "nbformat": 4,
 "nbformat_minor": 2
}
