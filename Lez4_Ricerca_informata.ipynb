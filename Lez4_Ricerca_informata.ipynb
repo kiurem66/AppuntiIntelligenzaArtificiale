{
 "cells": [
  {
   "cell_type": "markdown",
   "metadata": {},
   "source": [
    "# Ricerca informata\n",
    "\n",
    "Differenze con ricerca non informata:\n",
    "- La ricerca non informata sceglie la prossima mossa in base solamente ha ciò che ha scoperto del problema e alle sue regole.\n",
    "- La ricerca informata va oltre la definizione formale del problema sfruttando la conoscenza del problema reale. (Es. disuguaglianza triangolare, in una mappa reale un lato di un triangolo non può essere più lungo della somma degli altri due)\n",
    "- Dato uno stato l'algoritmo informato stima la bontà dello stato attraversu una funzione $f(s)$\n",
    "- Approccio best-first: vengono espansi prima gli stati che hanno una f migliore."
   ]
  },
  {
   "cell_type": "markdown",
   "metadata": {},
   "source": [
    "**A\\***: proposto nel 1968 da Nilsson, Hart e Raphael è un algoritmo di ricerca informata best first. Funziona come UCS ma invece di usare solamente il costo($g(s)$) per determinare il nodo da espadnere considera la funzione $f(s) = g(s) + h(s)$. $h(s)$ è l'euristica, ovvero la stima del costo ancora da pagare per andare da s al goal.\n",
    "\n",
    "Esempio di euristica per mappa: distanza in linea d'aria dal goal.\n",
    "\n",
    "Ammisibilità: Una stima non deve sovrastimare il costo del path (Ottimismo). Se ciò non vale l'algoritmo potrebbe non riconoscere il percorso ottimo (senza la EXL).\n",
    "\n",
    "Consistenza: $H(v) \\leq c(V, a, U) + h(U)$ (Disuguaglianza triangolare)\n",
    "\n",
    "La migliore euristica è la maggiore euristica ammissibile. (Quella perfetta è il costo stesso ma per averla bisogna risolvere il problema).\n",
    "\n",
    "Durante il percorso $f(x)$ è monotona non decrescente."
   ]
  },
  {
   "cell_type": "markdown",
   "metadata": {},
   "source": [
    "**Progettare un Euristica**: i limiti estremi sono l'euristica triviale ($h(s) = 0$ fa collassare l'algoritmo in un UCS) e l'euristica dell'oracolo(Che di fatto risolve il problema e quindi infattibile). Un euristica è più efficente più si avvicina all'euristica dell'oracolo ma calcolabile in modo efficente.\n",
    "\n",
    "**Rilassamento del problema**:\n",
    "\n",
    "**Limiti di A\\***: La garzanzia di otimalità significa mancanza di felssibilità. Un gran frontiera a costi significa il controllo di tutti quei nodi in quanto non si accontenta della sub-ottimalità.\n",
    "\n",
    "Focal Search: supponiamo di avere un altra euristica non amissibile che stima il costo computazionale necessario per stimare il costo computazionale."
   ]
  }
 ],
 "metadata": {
  "language_info": {
   "name": "python"
  },
  "orig_nbformat": 4
 },
 "nbformat": 4,
 "nbformat_minor": 2
}
