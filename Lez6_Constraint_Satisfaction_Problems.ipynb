{
 "cells": [
  {
   "cell_type": "markdown",
   "metadata": {},
   "source": [
    "# Constraint Satisfaction Problems\n",
    "\n",
    "Gli algoritmi di search hanno sempre considerato gli stati come entità atomiche senza mai considerare la struttura insterno. Invece di cercare la strada verso il Goal possiamo provare a costruire lo stato di Goal a partire da quello attuale. (*search* vs *identification*).\n",
    "\n",
    "I **CSP** sono un sotto-insieme dei proble,i si search dove stato, transizione e goal hanno questa struttura:\n",
    "- Lo **Stato** è un'insieme di variabili\n",
    "- La **Transizione** corrisponde ad assegnare un valore ad una variabile\n",
    "- Il **Goal check** corrisponde a soddisfare dei voncoli di valori su alcune o tutte le variabili.\n",
    "\n",
    "Vantaggio: conoscere la struttura interna ci permette di definire algoritmi risolutivi più efficenti."
   ]
  },
  {
   "cell_type": "markdown",
   "metadata": {},
   "source": [
    "Il CSP di base è un algoritmo di fattibilità. Esiste anche la variante del Constraint Optimization Problem, che invece risolvono l'ottimalità.\n",
    "\n",
    "Tipi di vincoli:\n",
    "- Unari: coinvolgono una sola variabile\n",
    "- Binari: coinvolgono coppie di variabili.\n",
    "- Generali: coinvolgono un numero maggiore di variabili.\n",
    "- Globale: coinvolge tutte le variabili in un CSP.\n",
    "\n",
    "Se le variabili hanno un dominio finito qualsisi vincolo può essere convertito in un numero di vincoli binari a patto di introdurre variabili ausiliarie.\n",
    "\n",
    "Es. vincolo $A + B = C$, come lo converto in vincoli binari. Creo una variabile $V$ il cui dominio è $D_a \\times D_b$ e nuovi tipi di vincoli: \n",
    "- $i(X,V)$ impone che $X$ sia uguale all'i-esimo valore della tupla assegnata a $V$\n",
    "- $\\Sigma(X,V)$ impone che $X$ sia uguale alla somma di tutti i valori di V.\n",
    "\n",
    "In questo modo il vincolo iniziale può essere riscritto così:\n",
    "- $1(A,V)$\n",
    "- $2(B,V)$\n",
    "- $\\Sigma(C,V)$"
   ]
  },
  {
   "cell_type": "markdown",
   "metadata": {},
   "source": [
    "### Metodi risolutivi\n",
    "\n",
    "I CSP sono sottoinsieme dei problemi di search, possiamo quindi risolverli con algoritmi di ricerca. Questo però non sfrutta il fatto di conoscere la struttura degli stati.\n",
    "\n",
    "La search può essere potenziata con un inferenza sui vincoli chiamata **Constraint Propagation**. In sostanza escludiamo rami che contengono assegnamenti possibili ma inutili al fine di raggiungere il Goal.\n",
    "\n",
    "Tipi di propagazione:\n",
    "- Consistenza di nodo: Per ogni variabile $X_i$ rimuovo da $D_i$ tutti i valori che non soddisfano i vincoli unari. Se dopo questo procedimento c'è almeno una variabile con dominio vuoto abbiamo risolto il CSP che è insoddisfacibile, mentre se ogni variabile ha un solo valore nel dominio assegnamo i valori e controlliamo i vincoli. Nei restanti casi abbiamo un CSP equivalente ma più compatto.\n",
    "- Consistenza di arco: Propaga i vincoli binari, una variabile $X_i$ è consistente rispetto a $S_j$ se per ogni valore in $D_i$ c'è un valore in $D_j$ che rispetta i vincoli. Rimuoviamo i valori che rendono gli archi inconsistenti dai domini delle variabili.\n",
    "- Consistenza di percorso: due variabili {A, B} sono path-consistent rispetto ad una terza C se per ogni assegnamento di A e B consistenze con i vincoli esiste un valore per C che è consistente con: i vincoli tra A e C, i vincoli tra B e C.\n",
    "\n",
    "AC3: algoritmo che on base ai vincoli stabilisce se un CSP è risolvibile o meno.\n",
    "\n",
    "Backtracking search: algoritmo di soluzione dei CSP. Funzionamento:\n",
    "- Nodo di partenza: assegnamento vuoto $\\Gamma = \\{\\}$\n",
    "- Estensione del nodo: assegnare ad una variabile $X_i$ un valore $v \\in D_i$\n",
    "- Ricerca in profondità con backtracking.\n",
    "- La propagazione dei vincoli viene fatta durante la ricerca."
   ]
  },
  {
   "cell_type": "markdown",
   "metadata": {},
   "source": [
    "# Ordering\n",
    "\n",
    "### Ordering variabili\n",
    "- Ordine lessicografico\n",
    "- Random\n",
    "- Euristica di grado: Varaibile con maggior numero di vincoli\n",
    "- Minumum Remaining Values: sceglie la variabile con il minor numero di valori possibili.\n",
    "\n",
    "### Ordering valori:\n",
    "- Least Constraining Value: scegli il valore con meno constraint.\n",
    "\n",
    "\n",
    "### Forward Checking\n",
    "Durante la ricerca ad ogni assegnamento ad una variabile $X_i$ applico la consistenza ad arco ad ogni varabile $X_j$ che condividono un vincolo con $X_i$\n",
    "\n",
    "### Maintaining Arc Consistency\n",
    "Versione migliorata del forward checking, ad ogni assegnanento esegue AC3.\n",
    "\n",
    "\n",
    "# Rierca locale\n",
    "Un altro approccio a questi problemi è quello di usare assegnamenti completi che violano uno o più vincoli e attraverso le Euristiche arrivare ad un assegnamento che non viola alcun vincolo.\n",
    "\n",
    "### Min-Conflicts\n",
    "Scegli l'assegnamento con meno vincoli possibili.\n",
    "\n",
    "Perché questo metodo funziona così bene? introduciamo $\\rho = \\frac{\\# Vincoli}{\\# Variabili}$\n",
    "\n",
    "Lo sforzo computazionale è basso finché $\\rho$ è lontanto da un valore definito critico.\n"
   ]
  }
 ],
 "metadata": {
  "language_info": {
   "name": "python"
  },
  "orig_nbformat": 4
 },
 "nbformat": 4,
 "nbformat_minor": 2
}
