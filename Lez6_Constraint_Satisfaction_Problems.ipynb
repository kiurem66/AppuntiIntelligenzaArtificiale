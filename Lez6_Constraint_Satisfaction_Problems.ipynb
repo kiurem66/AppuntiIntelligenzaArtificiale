{
 "cells": [
  {
   "cell_type": "markdown",
   "metadata": {},
   "source": [
    "# Constraint Satisfaction Problems\n",
    "\n",
    "Gli algoritmi di search hanno sempre considerato gli stati come entità atomiche senza mai considerare la struttura insterno. Invece di cercare la strada verso il Goal possiamo provare a costruire lo stato di Goal a partire da quello attuale. (*search* vs *identification*).\n",
    "\n",
    "I **CSP** sono un sotto-insieme dei proble,i si search dove stato, transizione e goal hanno questa struttura:\n",
    "- Lo **Stato** è un'insieme di variabili\n",
    "- La **Transizione** corrisponde ad assegnare un valore ad una variabile\n",
    "- Il **Goal check** corrisponde a soddisfare dei voncoli di valori su alcune o tutte le variabili.\n",
    "\n",
    "Vantaggio: conoscere la struttura interna ci permette di definire algoritmi risolutivi più efficenti."
   ]
  },
  {
   "cell_type": "markdown",
   "metadata": {},
   "source": [
    "Il CSP di base è un algoritmo di fattibilità. Esiste anche la variante del Constraint Optimization Problem, che invece risolvono l'ottimalità.\n",
    "\n",
    "Tipi di vincoli:\n",
    "- Unari: coinvolgono una sola variabile\n",
    "- Binari: coinvolgono coppie di variabili.\n",
    "- Generali: coinvolgono un numero maggiore di variabili.\n",
    "- Globale: coinvolge tutte le variabili in un CSP.\n",
    "\n",
    "Se le variabili hanno un dominio finito qualsisi vincolo può essere convertito in un numero di vincoli binari a patto di introdurre variabili ausiliarie.\n",
    "\n",
    "Es. vincolo $A + B = C$, come lo converto in vincoli binari. Creo una variabile $V$ il cui dominio è $D_a \\times D_b$ e nuovi tipi di vincoli: \n",
    "- $i(X,V)$ impone che $X$ sia uguale all'i-esimo valore della tupla assegnata a $V$\n",
    "- $\\Sigma(X,V)$ impone che $X$ sia uguale alla somma di tutti i valori di V.\n",
    "\n",
    "In questo modo il vincolo iniziale può essere riscritto così:\n",
    "- $1(A,V)$\n",
    "- $2(B,V)$\n",
    "- $\\Sigma(C,V)$"
   ]
  },
  {
   "cell_type": "markdown",
   "metadata": {},
   "source": [
    "### Metodi risolutivi\n",
    "\n",
    "I CSP sono sottoinsieme dei provlemi di search, possiamo quindi risolverli con algoritmi di ricerca. Questo però non sfrutta il fatto di conoscere la struttura degli stati.\n",
    "\n",
    "La search può essere potenziata con un inferenza sui vincoli chiamata **Constraint Propagation**. In sostanza escludiamo rami che contengono assegnamenti possibili ma inutili al fine di raggiungere il Goal.\n",
    "\n",
    "Tipi di propagazione:\n",
    "- Consistenza di nodo: Per ogni variabile $X_i$ rimuovo da $D_i$ tutti i valori che non soddisfano i vincoli unari. Se dopo questo procedimento c'è almeno una variabile con dominio vuoto abbiamo risolto il CSP che è insoddisfacibile, mentre se ogni variabile ha un solo valore nel dominio assegnamo i valori e controlliamo i vincoli. Nei restanti casi abbiamo un CSP equivalente ma più compatto.\n",
    "- Consistenza di arco: Propaga i vincoli binari, una variabile $X_i$ è consistente rispetto a $S_j$ se per ogni valore in $D_i$ c'è un valore in $D_j$ che rispetta i vincoli. Rimuoviamo i valori che rendono gli archi inconsistenti dai domini delle variabili."
   ]
  }
 ],
 "metadata": {
  "language_info": {
   "name": "python"
  },
  "orig_nbformat": 4
 },
 "nbformat": 4,
 "nbformat_minor": 2
}
