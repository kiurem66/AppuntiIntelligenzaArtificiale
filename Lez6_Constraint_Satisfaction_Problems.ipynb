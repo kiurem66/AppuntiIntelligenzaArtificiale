{
 "cells": [
  {
   "cell_type": "markdown",
   "metadata": {},
   "source": [
    "# Constraint Satisfaction Problems\n",
    "\n",
    "Gli algoritmi di search hanno sempre considerato gli stati come entità atomiche senza mai considerare la struttura insterno. Invece di cercare la strada verso il Goal possiamo provare a costruire lo stato di Goal a partire da quello attuale. (*search* vs *identification*).\n",
    "\n",
    "I **CSP** sono un sotto-insieme dei proble,i si search dove stato, transizione e goal hanno questa struttura:\n",
    "- Lo **Stato** è un'insieme di variabili\n",
    "- La **Transizione** corrisponde ad assegnare un valore ad una variabile\n",
    "- Il **Goal check** corrisponde a soddisfare dei voncoli di valori su alcune o tutte le variabili.\n",
    "\n",
    "Vantaggio: conoscere òa struttura interna ci permette di definire algoritmi risolutivi più efficenti."
   ]
  }
 ],
 "metadata": {
  "language_info": {
   "name": "python"
  },
  "orig_nbformat": 4
 },
 "nbformat": 4,
 "nbformat_minor": 2
}
