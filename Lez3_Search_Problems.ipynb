{
 "cells": [
  {
   "cell_type": "markdown",
   "metadata": {},
   "source": [
    "# Problemi di search\n",
    "\n",
    "- Ci concetriamo sulla risoluzione attraverso un processo di inferenza.\n",
    "- Usiamo un particolare tipo di inferenza chiamata ricerca, che porta il mondo da uno stato iniziale a uno di Goal.\n",
    "- Si costruisce un piamo, sequenza di azioni.\n",
    "\n",
    "Partiamo dallo spazio degli stati, definiamo uno stato iniziale  uno di goal.\n",
    "Definialu una funzione $f(s_i, a)$ rappresenta la conseguenza dello svolgere l'azione a nello stato s, ogni azione ha un costo.\n",
    "\n",
    "Classi di problemi:\n",
    "- Fattibilità: verifica dell'esistenza di una serie d'azioni che porti da $s_i$ al goal\n",
    "- Ottimizzazione: costruire la migliore serie di azioni che porti da $s_i$ al goal\n",
    "- Approssimazione: costruzione una serie di azioni che ha garanzie di discostamento dall'ottimo."
   ]
  },
  {
   "cell_type": "markdown",
   "metadata": {},
   "source": [
    "**Progettazione algoritmo di ricerca**\n",
    "\n",
    "Specificare il problema: si può rappresentare l'intero albero degli stati ma questo non è sempre possibile, un altro approccio è quello di specificare lo stato iniziale e una funzione di stato prossimo. Serve anche una funzione che stabilisca se un dato stato è goal o meno (Goal Check).\n",
    "\n",
    "Un algoritmo di search esplora il grafo degli stati fino a quando non se ne trova uno di Goal. Nel caso degli algoritmi di fattibilità quando viene trovato un goal viene restituito il percorso fatto. Nella versione di ottimizzazione viene restituito il percorso trovato solo se tutti gli altri percorsi hanno costo maggiore.\n",
    "\n",
    "Valutazione algoritmo di ricerca:\n",
    "- Correttezza: Garanzia che l'algoritmo svolga ciò per cui è stato progettato. La soluzione è sempre corretta. \n",
    "- Completezza: In presenza di soluzione l'algoritmo la trova sempre. Problema con spazio degli stati infiniti: approccio sistematico, se il goal esiste l'algoritmo deve trovarlo, ma se la risposta è no non termina mai.\n",
    "- Complessità spaziale: Come cresce la memoria in funzione della dimensione del problema.\n",
    "- Complessità temporale: Come cresce il tempo in funzione della dimensione del problema."
   ]
  },
  {
   "cell_type": "markdown",
   "metadata": {},
   "source": [
    "**Esempi di algoritmi di ricerca: DFS e BFS.**\n",
    "\n",
    "Espansione: listare i nodi raggiungibili da un nodo.\n",
    "\n",
    "DFS: ricerca in profondità, sceglie il nodo più profondo non ancora esplorato.  Evita i loop sullo stesso ramo. Utilizza backtracking per riconsiderare decisioni di ricerca e risalire di un nodo. b: branching factor, d: depth\n",
    "- Corretta se con backtracking\n",
    "- Completa se con backtracking\n",
    "- Complessità spaziale: $O(d)$\n",
    "- Complessità temporale: $O(b^d)$\n",
    "\n",
    "BFS: riscerca in ampliezza: sceglie il nodo meno profondo non ancora esplorato. Procede per livelli di profondità. q: profondità minima della soluzione ($q \\leq d$)\n",
    "- Corretta\n",
    "- Completa\n",
    "- Complessità spaziale: $O(b^q)$\n",
    "- Complessità temporale: $O(b^q)$"
   ]
  }
 ],
 "metadata": {
  "language_info": {
   "name": "python"
  },
  "orig_nbformat": 4
 },
 "nbformat": 4,
 "nbformat_minor": 2
}
