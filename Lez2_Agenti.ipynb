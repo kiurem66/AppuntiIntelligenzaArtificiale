{
 "cells": [
  {
   "cell_type": "markdown",
   "metadata": {},
   "source": [
    "# Agenti\n",
    "\n",
    "> anything that can be viewed as perceiving its envoronment through sensors and acting upon that environment through actuators.\n",
    "\n",
    "> a computer sistem that is situated in some environment, and that is capable of autonomous action.\n",
    "\n",
    "Un agente è immerso nel suo ambiente e può interargirci in due modi\n",
    "- Azioni che influenzano lo stato dell'ambiente\n",
    "- Percezione per acquisire lo stato dell'ambiente\n",
    "\n",
    "**Modello standad dell'AI**\n",
    "\n",
    "*\"Una macchina può dirsi intelligente nella misura in cui si può spettare che le sue azioni portino al raggiungimento dei suoi obbiettivi\"* -Stuart Russel"
   ]
  },
  {
   "cell_type": "markdown",
   "metadata": {},
   "source": [
    "**Ambiente**\n",
    "- Ambiente completamente osservabile: attraverso i sensori l'agente può accedere a tutte le informazioni dell'ambiente (Unica degli ambienti puramente computazionali)\n",
    "- Abiente parzialmente osservabile: l'agente può conoscere un numero parziale di informazioni dell'ambiente attraverso i suoi sensori\n",
    "\n",
    "Inoltre si può anche classificare per numero di agenti:\n",
    "- Single-agent: c'è un unico decisore, l'ambiente è agnostico, regolato da leggi a priori\n",
    "- Multi-agent: Nell'ambientesono presenti altre entità che agiscono secondo obiettivi e preferenze non necessariamente concordi. (Teoria dei Giochi)\n",
    "\n",
    "O per la casualità:\n",
    "- Ambiente deterministico: dato lo stato corrente e l'azione eseguita dall'agente lo stato successivo è completamente determinato\n",
    "- Ambiente stocastico: l'esito di un'azione è desritta tramite una distribuzione di probabilità\n",
    "\n",
    "L'ambiente stocastico non viene chiamato \"non-deterministico\" perchè le opzioni e le rispettive probabilità sono note.\n",
    "\n",
    "Ulteriori distizioni:\n",
    "- Staitco dinamico: L'ambiente in cui l'agente rimane sempre lo stesso o cambia\n",
    "- Tempo discreto o continuo\n",
    "- Conosciuto o sconosciuto: le leggi che determinano i cambiamenti di stato sono note o no"
   ]
  },
  {
   "cell_type": "markdown",
   "metadata": {},
   "source": [
    "# Tipi di agenti\n",
    "\n",
    "**Agenti Reattivi**\n",
    "\n",
    "Ciò che vedo al tempo t è tutto ciò che ho per decidere quale azione compire, è il tipo più semplice di agente. a fronte di una certa percezione l'azione dell'agente è sempre la stessa. Assenza di stato.\n",
    "\n",
    "**Agenti reattivi con modello**\n",
    "\n",
    "L'agente mantiene una stima dello stato interno. Dato uno stato il risultato è sempre lo stesso. Il mapping stato-azione è stabilito dal progesttista.\n",
    "\n",
    "**Agenti rattivi con goal**\n",
    "\n",
    "Viene definito un goal, ovvero uno o più stati che l'agente desidera portare a termine. L'agente deve quindi prevedere l'effetto delle proprie azioni e scegliere che permette di avvicinarsi al goal. Il concetto di goal è limitaten in quanto descrive gli stati in modo binario(goal o meno).La priorità del goal non è quantificabile.\n",
    "\n",
    "Una soluzione sarebbe quella di stimare il goal migliore attraverso il valore atteso\n",
    "$$\n",
    "    E[X] = \\sum_{i=0}^{n} p_n \\cdot w_n  \n",
    "$$\n",
    "\n",
    "Questa soluzione però non scala bene con la grandezza dei valori in quanto non tiene conto del diminishing returns di utilità. (Es. meglio avere certamente 50.000 $ che avere un 1% di probabilità di ricevere 5.000.100)"
   ]
  },
  {
   "cell_type": "markdown",
   "metadata": {},
   "source": [
    "**Agenti basati sull'utilità**\n",
    "\n",
    "Utilità: proprietà di essere utile o benefica per il decisore.\n",
    "\n",
    "L'agente è dotato di una funzione di utilità che decide la favoribilità degli stati.\n",
    "Per fare questo abbiamo bisogno del concetto di preferenza:\n",
    "- $S = \\{S_1, S_2, \\dots\\}$ insieme degli stati.\n",
    "- $S_i \\succcurlyeq S_j$ preferenza debole si $S_i$ rispetto a $S_j$\n",
    "- $S_i \\succ S_j$ preferenza forte si $S_i$ rispetto a $S_j$\n",
    "- $S_i \\sim S_j$ indifferenza tra $S_i$ e $S_j$\n",
    "- Possiamo estendere le preferenze a lotterie di stato, espresse tramite distribuzione di probabilità\n",
    "\n",
    "Qualsiasi relazione di preferenza è significativa? in generale no.\n",
    "\n",
    "Proprietà della preferenza:\n",
    "- Completezza (C): $ \\forall S_1, S_2$ deve valere $S_1 \\succ S_2$ oppure $S_1 \\succcurlyeq S_2$ oppure $S_1 \\sim S_2$\n",
    "- Transitività (T): $ \\forall S_1, S_2, S_3$ se $S_1 \\succ S_2$ e $S_2 \\succ S_3$ allora $S_1 \\succ S_3$\n",
    "- Sostituibilità (S): se $S_a \\sim S_b$ allora le lotterie uguali ma come primo elemento $S_a$ una e $S_b$ l'altra le due lotterie sono indifferenti.\n",
    "- Decomponibilità (No Fun With Gambling): detta $p_i^e$ la probabilità con cui la lotteria $e$ seleziona lo stato $s_i$ se $\\forall S_e \\in S \\, p_i^{l_1} = p_i^{l_2}$ allora $l_1 \\sim l_2$ (Non importa se si fanno lotterie di lotterie l'unica cosa che conta è la probabilità finale degli stati)\n",
    "- Monotonicità (M): se $s_1 \\succ s_2$ e $p>q$ allora $[p:s_1, (1-p):s_2] \\succ [q: s_1, (1-p): s_2]$\n",
    "- Continuità (CC): Se $s_1 \\succ s_2 \\succ s_3$ allora $\\exists p \\in [0,1]$ tale per cui $s_2 \\sim [p:2_1, (1-p):s_3]$\n",
    "\n",
    "Teorema dell'utilità di Von Neuman e Morgenstern: se la relazione di preferenza gode di tutte le propietà elencate esiste una funzione di utilità $u: l \\to [0,1]$ tali per cui:\n",
    "- se $S_1 \\succ S_2$ allora $u(S_1) > u(S_2)$\n",
    "- $u([p_1:s_1,p_2:s_2,\\dots]) = \\sum_ip_i u(s_i)$"
   ]
  },
  {
   "cell_type": "markdown",
   "metadata": {},
   "source": [
    "# Approccio alla IA\n",
    "\n",
    "Esistono due grandi approcci all'Intelligenza Artificiale, in quanto esisteno due grandi problemi che si affrontano durante la prgettazione di un IA:\n",
    "- Complessità computazionale\n",
    "- Informazione necessaria\n",
    "\n",
    "**Primo approccio (Intuitive mind)**:\n",
    "Costruzione del modello partendo dai dati. La difficoltà sta nella costruzione.\n",
    "Approccio bottom-up, apprendimento.\n",
    "\n",
    "**Secondo approccio (Analytical mind)**:\n",
    "Costruzione del modello partendo dal problema. la difficoltà sta nell'utilizzo del modello.\n",
    "Approccio top-down, infeenza."
   ]
  }
 ],
 "metadata": {
  "language_info": {
   "name": "python"
  },
  "orig_nbformat": 4
 },
 "nbformat": 4,
 "nbformat_minor": 2
}
