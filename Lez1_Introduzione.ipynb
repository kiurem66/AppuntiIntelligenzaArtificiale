{
 "cells": [
  {
   "cell_type": "markdown",
   "metadata": {},
   "source": [
    "# Che cos'è l'intelligenza artificiale?\n",
    "\n",
    "Cominciamo da esempi di applicazione:\n",
    "- Robotica\n",
    "- Computer Vision\n",
    "- Natural Language Processing\n",
    "- Raccomendations\n",
    "- Games\n"
   ]
  },
  {
   "cell_type": "markdown",
   "metadata": {},
   "source": [
    "**Impatti etici**\n",
    "\n",
    "- Verrò rimpiazzato da una macchina?\n",
    "- AI Bias e problema della Fairness\n",
    "\n",
    "Consigli di lettura: Weapons of Math Destruction, Superintellignce\n"
   ]
  },
  {
   "cell_type": "markdown",
   "metadata": {},
   "source": [
    "**Definizione informatica**\n",
    "\n",
    "*\"A field within computer sciense that is attempting to buid enahnced intelligence into computer systems\"* \n",
    "-Nils J. Nilsson\n"
   ]
  },
  {
   "cell_type": "markdown",
   "metadata": {},
   "source": [
    "**Storia**\n",
    "\n",
    "Nel 1956 John MCCarthy conia il termine \"Artificial Intelligence\" e così nasce il campo di ricerca con una sua mission\n",
    "\n",
    "- 1950-1970 Nascita del settore, fiducia iniziale data dalla soluzione di problemi semplici\n",
    "- 1970-1980 Primo inverno, la difficoltà dei problemi reali era stata sottostimata\n",
    "- 1980-1987 Nascita dai sistemi esperti, nuova euforia\n",
    "- 1987-1993 Secondo inverno, I sistemi esperti sono poco flessibili e difficili da mantenere\n",
    "- presente, Big Data e elaboratori più potenti permettono la rivoluzione del Deep Learning\n",
    "\n",
    "Oggi siamo nella \"Age of Implementation\", ovvero vediamo applicazione pratiche dell'intelligenza artificiale funzionanti."
   ]
  },
  {
   "cell_type": "markdown",
   "metadata": {},
   "source": [
    "**Visione sistematica**\n",
    "\n",
    "|             | **Come un essere umano**                                                   | **Razionlmente**                        |\n",
    "|-------------|----------------------------------------------------------------------------|-----------------------------------------|\n",
    "| **Pensare** | Programma che ragiona esattamente come  un umano (attualmente impossibile) | Programma che fa deduzioni logiche      |\n",
    "| **Agire**   | Un programma che ha un comportamento \"umano\"                               | Un programma che prende buone decisioni |\n",
    "\n",
    "La prima riga viene chiamata emulazione mentre la seconda simulazione. Es. gli areoplani non emulano gli uccelli ma li simulano.\n",
    "\n",
    "Le categorie non sono mutualmente esclusive."
   ]
  },
  {
   "cell_type": "markdown",
   "metadata": {},
   "source": [
    "**Test di Turing**\n",
    "\n",
    "Benchmark per le intelligenze artificiali."
   ]
  },
  {
   "cell_type": "markdown",
   "metadata": {},
   "source": [
    "La nostra definizione di inteligenza è quella di \"Agire razionalmente\". I vantaggi di questa definizioni sono:\n",
    "- L'emulazione è meno restrittiva della simulazione\n",
    "- La razionalità può essere dimostrata matematicamente"
   ]
  }
 ],
 "metadata": {
  "language_info": {
   "name": "python"
  },
  "orig_nbformat": 4
 },
 "nbformat": 4,
 "nbformat_minor": 2
}
